{
 "cells": [
  {
   "cell_type": "markdown",
   "metadata": {},
   "source": [
    "# File Information\n",
    "\n",
    "Name: Amie Davis\n",
    "\n",
    "Course: DSC630 - Predictive Analytics\n",
    "\n",
    "Assignment Number: Final Project Part 4\n",
    "\n",
    "Purpose: Build model(s)\n",
    "\n",
    "Usage: Python 3.7.6\n",
    "\n",
    "   Developed using Jupter Notebook 6.0.3"
   ]
  },
  {
   "cell_type": "markdown",
   "metadata": {},
   "source": [
    "# Data Source\n",
    "Uniform Crime Reporting Program Data: National Incident-Based Reporting System, [United States], 2016; United States Federal Bureau of Investigation; Inter-university Consortium for Political and Social Research (ICPSR), University of Michigan; https://www.icpsr.umich.edu/icpsrweb/NACJD/NIBRS/ \n",
    "\n",
    "\n",
    "Geodetic Data for US Cities: https://simplemaps.com/data/us-cities\n"
   ]
  },
  {
   "cell_type": "markdown",
   "metadata": {},
   "source": [
    "# Part 4\n",
    "\n",
    "In Part 4, I will build a decision tree classification models to predict the likelihood of specific offenses: justifiable homicide and aggrevated assualt."
   ]
  },
  {
   "cell_type": "markdown",
   "metadata": {},
   "source": [
    "## Import required packages"
   ]
  },
  {
   "cell_type": "code",
   "execution_count": 1,
   "metadata": {},
   "outputs": [],
   "source": [
    "# Suppress Warnings\n",
    "#import warnings\n",
    "#warnings.filterwarnings('ignore') \n",
    "\n",
    "import pandas as pd\n",
    "import numpy as np\n",
    "from sklearn.model_selection import train_test_split\n",
    "from sklearn.metrics import classification_report"
   ]
  },
  {
   "cell_type": "markdown",
   "metadata": {},
   "source": [
    "# Prepare Data"
   ]
  },
  {
   "cell_type": "code",
   "execution_count": 2,
   "metadata": {},
   "outputs": [
    {
     "name": "stderr",
     "output_type": "stream",
     "text": [
      "C:\\Users\\amomu\\Anaconda3\\lib\\site-packages\\IPython\\core\\interactiveshell.py:3063: DtypeWarning: Columns (7,11,14,15,16,17,18,19,41,42,44,46,51,52,53,54,56) have mixed types.Specify dtype option on import or set low_memory=False.\n",
      "  interactivity=interactivity, compiler=compiler, result=result)\n"
     ]
    }
   ],
   "source": [
    "# Load data into dataframe\n",
    "data_file = \"Data\\crime_offenses_top6.csv\"    # Data from Top 6 States\n",
    "df = pd.read_csv(data_file)"
   ]
  },
  {
   "cell_type": "markdown",
   "metadata": {},
   "source": [
    "## Eliminate features"
   ]
  },
  {
   "cell_type": "code",
   "execution_count": 3,
   "metadata": {},
   "outputs": [
    {
     "name": "stdout",
     "output_type": "stream",
     "text": [
      "Index(['Unnamed: 0', 'X1', 'ORI', 'INC_NUM', 'VIC_INC_DATE', 'VICTIM_TYPE',\n",
      "       'ACT_TYPE_OFFC', 'ASSG_TYPE_OFFC', 'AGE_OF_VICTIM', 'SEX_OF_VICTIM',\n",
      "       'RACE_OF_VICTIM', 'ETHNIC_OF_VIC', 'VIC_RESIDENT', 'ASSAULT_CIRC1',\n",
      "       'ASSAULT_CIRC2', 'JUST_HOM_CIRC', 'INJURY_TYPE1', 'INJURY_TYPE2',\n",
      "       'INJURY_TYPE3', 'INJURY_TYPE4', 'INJURY_TYPE5', 'NUM_RECS_PER_VICTIM',\n",
      "       'VIC_INC_YEAR', 'VIC_INC_MONTH', 'VIC_INC_DAY', 'VIC_INC_DOW',\n",
      "       'NUM_STATE_CODE', 'CITY', 'STATE', 'POP_GROUP', 'CTRY_DIVISION',\n",
      "       'CTRY_REGION', 'AGENCY_IND', 'CORE_CITY', 'FBI_OFFICE', 'JUDICIAL_DIST',\n",
      "       'CURRENT_POP1', 'UCR_COUNTY_CD1', 'MSA_CD1', 'LAST_POP1',\n",
      "       'FIPS_COUNTY1', 'city_ascii', 'state_name', 'county_fips',\n",
      "       'county_name', 'county_fips_all', 'county_name_all', 'lat', 'lng',\n",
      "       'population', 'density', 'source', 'military', 'incorporated',\n",
      "       'timezone', 'ranking', 'zips', 'id', 'OFF_CODE'],\n",
      "      dtype='object')\n"
     ]
    }
   ],
   "source": [
    "print(df.columns)"
   ]
  },
  {
   "cell_type": "code",
   "execution_count": 4,
   "metadata": {},
   "outputs": [],
   "source": [
    "# Remove irrelevant and redundant fields\n",
    "\n",
    "# Drop unneeded columns\n",
    "df.drop(['X1','id', 'county_fips', 'county_fips_all', 'Unnamed: 0', \n",
    "         'ORI', 'INC_NUM', 'NUM_RECS_PER_VICTIM', 'VIC_INC_DATE', 'VIC_INC_YEAR', 'VIC_INC_DAY',\n",
    "         'ASSAULT_CIRC1', 'ASSAULT_CIRC2', 'JUST_HOM_CIRC', \n",
    "         'INJURY_TYPE1', 'INJURY_TYPE2', 'INJURY_TYPE3',\n",
    "         'INJURY_TYPE4', 'INJURY_TYPE5', 'NUM_RECS_PER_VICTIM', 'AGENCY_IND',\n",
    "         'FBI_OFFICE', 'JUDICIAL_DIST', 'FIPS_COUNTY1',\n",
    "         'LAST_POP1', 'UCR_COUNTY_CD1', 'MSA_CD1', 'city_ascii', 'CITY', 'STATE',\n",
    "         'state_name', 'county_name', 'county_name_all', 'population', 'zips',\n",
    "         'source'], \n",
    "        axis=1, inplace = True)\n",
    "\n",
    "# Also removing victim demograohics since they are not relevant to predict offenses and locations\n",
    "df.drop(['VICTIM_TYPE','RACE_OF_VICTIM', 'AGE_OF_VICTIM', \n",
    "         'SEX_OF_VICTIM', 'ETHNIC_OF_VIC', 'VIC_RESIDENT'],\n",
    "        axis=1, inplace = True)\n",
    "\n",
    "# Verify Change\n",
    "#print(df.columns)\n"
   ]
  },
  {
   "cell_type": "code",
   "execution_count": 5,
   "metadata": {},
   "outputs": [],
   "source": [
    "# Replace NA values with NULL\n",
    "df.replace('NA', np.nan)\n",
    "\n",
    "# Remove Unknown Values with NULL\n",
    "df.replace('U', np.nan)\n",
    "\n",
    "# Drop columns with mostly NULL data\n",
    "df.drop(['ACT_TYPE_OFFC','ASSG_TYPE_OFFC'],\n",
    "        axis=1, inplace = True)\n",
    "\n",
    "# Drop records with remaining null values\n",
    "df.dropna(axis=0, inplace=True)"
   ]
  },
  {
   "cell_type": "markdown",
   "metadata": {},
   "source": [
    "## Encoding"
   ]
  },
  {
   "cell_type": "code",
   "execution_count": 6,
   "metadata": {},
   "outputs": [],
   "source": [
    "# Change DOW to numeric value\n",
    "def f_dow(df):\n",
    "    if df['VIC_INC_DOW'] == 'Sunday':\n",
    "        val = 1\n",
    "    elif df['VIC_INC_DOW'] == 'Monday':\n",
    "        val = 2\n",
    "    elif df['VIC_INC_DOW'] == 'Tuesday':\n",
    "        val = 3\n",
    "    elif df['VIC_INC_DOW'] == 'Wednesday':\n",
    "        val = 4\n",
    "    elif df['VIC_INC_DOW'] == 'Thursday':\n",
    "        val = 5\n",
    "    elif df['VIC_INC_DOW'] == 'Friday':\n",
    "        val = 6\n",
    "    elif df['VIC_INC_DOW'] == 'Saturday':\n",
    "        val = 7\n",
    "    else:\n",
    "        val=0\n",
    "    return val\n",
    "\n",
    "# Change Timezone to numeric value\n",
    "def f_tz(df):\n",
    "    if df['timezone'] == 'America/New_York':\n",
    "        val = 1\n",
    "    elif df['timezone'] == 'America/Detroit':\n",
    "        val = 2\n",
    "    elif df['timezone'] == 'America/Chicago':\n",
    "        val = 2\n",
    "    elif df['timezone'] == 'America/Denver':\n",
    "        val = 3\n",
    "    elif df['timezone'] == 'America/Los_Angeles':\n",
    "        val = 4\n",
    "    else:\n",
    "        val=0\n",
    "    return val\n",
    "\n",
    "# Convert simple categorical features to numeric to limit dummy features\n",
    "df['VIC_INC_DOW'] = df.apply(f_dow, axis=1)\n",
    "df['timezone'] = df.apply(f_tz, axis=1)\n",
    "\n",
    "df['CORE_CITY'] = df['CORE_CITY'].map({'Y': 1, 'N': 0})\n",
    "df['military'] = df['military'].map({True: 1, False: 0})\n",
    "df['incorporated'] = df['incorporated'].map({True: 1, False: 0})\n",
    "\n",
    "# Change target feature to easily translated numeric values\n",
    "def f_off(df):\n",
    "    if df['OFF_CODE'] == '09A':\n",
    "        val = 91\n",
    "    elif df['OFF_CODE'] == '09B':\n",
    "        val = 92\n",
    "    elif df['OFF_CODE'] == '09C':\n",
    "        val = 93\n",
    "    elif df['OFF_CODE'] == '100':\n",
    "        val = 100\n",
    "    elif df['OFF_CODE'] == '11A':\n",
    "        val = 111\n",
    "    elif df['OFF_CODE'] == '11B':\n",
    "        val = 112\n",
    "    elif df['OFF_CODE'] == '11C':\n",
    "        val = 113\n",
    "    elif df['OFF_CODE'] == '11D':\n",
    "        val = 114\n",
    "    elif df['OFF_CODE'] == '120':\n",
    "        val = 120\n",
    "    elif df['OFF_CODE'] == '13A':\n",
    "        val = 131\n",
    "    elif df['OFF_CODE'] == '13B':\n",
    "        val = 132\n",
    "    elif df['OFF_CODE'] == '13C':\n",
    "        val = 133\n",
    "    elif df['OFF_CODE'] == '200':\n",
    "        val = 200\n",
    "    elif df['OFF_CODE'] == '210':\n",
    "        val = 210\n",
    "    elif df['OFF_CODE'] == '220':\n",
    "        val = 220\n",
    "    elif df['OFF_CODE'] == '23A':\n",
    "        val = 231\n",
    "    elif df['OFF_CODE'] == '23B':\n",
    "        val = 232\n",
    "    elif df['OFF_CODE'] == '23C':\n",
    "        val = 233\n",
    "    elif df['OFF_CODE'] == '23D':\n",
    "        val = 234\n",
    "    elif df['OFF_CODE'] == '23E':\n",
    "        val = 235\n",
    "    elif df['OFF_CODE'] == '23F':\n",
    "        val = 236\n",
    "    elif df['OFF_CODE'] == '23G':\n",
    "        val = 237\n",
    "    elif df['OFF_CODE'] == '23H':\n",
    "        val = 238\n",
    "    elif df['OFF_CODE'] == '240':\n",
    "        val = 240\n",
    "    elif df['OFF_CODE'] == '250':\n",
    "        val = 250\n",
    "    elif df['OFF_CODE'] == '26A':\n",
    "        val = 261\n",
    "    elif df['OFF_CODE'] == '26B':\n",
    "        val = 262\n",
    "    elif df['OFF_CODE'] == '26C':\n",
    "        val = 263\n",
    "    elif df['OFF_CODE'] == '26D':\n",
    "        val = 264\n",
    "    elif df['OFF_CODE'] == '26E':\n",
    "        val = 265\n",
    "    elif df['OFF_CODE'] == '26F':\n",
    "        val = 266\n",
    "    elif df['OFF_CODE'] == '26G':\n",
    "        val = 267\n",
    "    elif df['OFF_CODE'] == '270':\n",
    "        val = 270\n",
    "    elif df['OFF_CODE'] == '280':\n",
    "        val = 280\n",
    "    elif df['OFF_CODE'] == '290':\n",
    "        val = 290\n",
    "    elif df['OFF_CODE'] == '35A':\n",
    "        val = 351\n",
    "    elif df['OFF_CODE'] == '35B':\n",
    "        val = 352\n",
    "    elif df['OFF_CODE'] == '36A':\n",
    "        val = 361\n",
    "    elif df['OFF_CODE'] == '36B':\n",
    "        val = 362\n",
    "    elif df['OFF_CODE'] == '370':\n",
    "        val = 370\n",
    "    elif df['OFF_CODE'] == '39A':\n",
    "        val = 391\n",
    "    elif df['OFF_CODE'] == '39B':\n",
    "        val = 392\n",
    "    elif df['OFF_CODE'] == '39C':\n",
    "        val = 393\n",
    "    elif df['OFF_CODE'] == '39D':\n",
    "        val = 394\n",
    "    elif df['OFF_CODE'] == '40A':\n",
    "        val = 401\n",
    "    elif df['OFF_CODE'] == '40B':\n",
    "        val = 402\n",
    "    elif df['OFF_CODE'] == '40C':\n",
    "        val = 403\n",
    "    elif df['OFF_CODE'] == '510':\n",
    "        val = 510\n",
    "    elif df['OFF_CODE'] == '520':\n",
    "        val = 520\n",
    "    elif df['OFF_CODE'] == '64A':\n",
    "        val = 641\n",
    "    elif df['OFF_CODE'] == '64B':\n",
    "        val = 642\n",
    "    elif df['OFF_CODE'] == '720':\n",
    "        val = 720\n",
    "    else:\n",
    "        val=0\n",
    "    return val  \n",
    "df['OFF_CODE'] = df.apply(f_off, axis=1)\n",
    "\n",
    "# Convert population group to easily translated numeric values\n",
    "def f_pop(df):\n",
    "    if df['POP_GROUP'] == '1A':\n",
    "        val = 11\n",
    "    elif df['POP_GROUP'] == '1B':\n",
    "        val = 12\n",
    "    elif df['POP_GROUP'] == '1C':\n",
    "        val = 13\n",
    "    elif df['POP_GROUP'] == '8A':\n",
    "        val = 81\n",
    "    elif df['POP_GROUP'] == '8B':\n",
    "        val = 82\n",
    "    elif df['POP_GROUP'] == '8C':\n",
    "        val = 83\n",
    "    elif df['POP_GROUP'] == '8D':\n",
    "        val = 84\n",
    "    elif df['POP_GROUP'] == '8E':\n",
    "        val = 85\n",
    "    elif df['POP_GROUP'] == '9A':\n",
    "        val = 91\n",
    "    elif df['POP_GROUP'] == '9B':\n",
    "        val = 92\n",
    "    elif df['POP_GROUP'] == '9C':\n",
    "        val = 93\n",
    "    elif df['POP_GROUP'] == '9D':\n",
    "        val = 94\n",
    "    elif df['POP_GROUP'] == '9E':\n",
    "        val = 95\n",
    "    else:\n",
    "        val=df['POP_GROUP']\n",
    "    return val  \n",
    "df['POP_GROUP'] = df.apply(f_pop, axis=1)"
   ]
  },
  {
   "cell_type": "code",
   "execution_count": 7,
   "metadata": {},
   "outputs": [
    {
     "name": "stdout",
     "output_type": "stream",
     "text": [
      "Data Before Encoding:\n",
      "0    261\n",
      "1    237\n",
      "2    133\n",
      "3    238\n",
      "4    290\n",
      "5    233\n",
      "6    233\n",
      "7    233\n",
      "Name: OFF_CODE, dtype: int64\n",
      "\n",
      "Data After Encoding:\n",
      "   91   92   93   100  111  112  113  114  120  131  ...  392  393  401  402  \\\n",
      "0    0    0    0    0    0    0    0    0    0    0  ...    0    0    0    0   \n",
      "1    0    0    0    0    0    0    0    0    0    0  ...    0    0    0    0   \n",
      "2    0    0    0    0    0    0    0    0    0    0  ...    0    0    0    0   \n",
      "3    0    0    0    0    0    0    0    0    0    0  ...    0    0    0    0   \n",
      "4    0    0    0    0    0    0    0    0    0    0  ...    0    0    0    0   \n",
      "5    0    0    0    0    0    0    0    0    0    0  ...    0    0    0    0   \n",
      "6    0    0    0    0    0    0    0    0    0    0  ...    0    0    0    0   \n",
      "7    0    0    0    0    0    0    0    0    0    0  ...    0    0    0    0   \n",
      "\n",
      "   403  510  520  641  642  720  \n",
      "0    0    0    0    0    0    0  \n",
      "1    0    0    0    0    0    0  \n",
      "2    0    0    0    0    0    0  \n",
      "3    0    0    0    0    0    0  \n",
      "4    0    0    0    0    0    0  \n",
      "5    0    0    0    0    0    0  \n",
      "6    0    0    0    0    0    0  \n",
      "7    0    0    0    0    0    0  \n",
      "\n",
      "[8 rows x 51 columns]\n",
      "Int64Index([ 91,  92,  93, 100, 111, 112, 113, 114, 120, 131, 132, 133, 200,\n",
      "            210, 220, 231, 232, 233, 234, 235, 236, 237, 238, 240, 250, 261,\n",
      "            262, 263, 264, 265, 266, 267, 270, 280, 290, 351, 352, 361, 362,\n",
      "            370, 391, 392, 393, 401, 402, 403, 510, 520, 641, 642, 720],\n",
      "           dtype='int64')\n"
     ]
    }
   ],
   "source": [
    "# Use one-hot encoding on Offense Code to build models on specific codes\n",
    "print('Data Before Encoding:')\n",
    "print(df.OFF_CODE.head(8))\n",
    "# Use One Hot Encoding to convert to binary matrix\n",
    "data_cat_dummies = pd.get_dummies(df.OFF_CODE)\n",
    "# Check the data\n",
    "print()\n",
    "print('Data After Encoding:')\n",
    "print(data_cat_dummies.head(8))\n",
    "print(data_cat_dummies.columns)\n",
    "just_hom = data_cat_dummies[93]\n",
    "agg_asst = data_cat_dummies[131]"
   ]
  },
  {
   "cell_type": "markdown",
   "metadata": {},
   "source": [
    "## Determine Target Variable"
   ]
  },
  {
   "cell_type": "markdown",
   "metadata": {},
   "source": [
    "Use offense code as the target variable.  The goal is to be able to predict the likelihood of a specific offense code based on varying features.\n",
    "\n",
    "For the first model, I will select Justifiable Homicide as the target variable.\n",
    "A second model will predict Suspicious Activity."
   ]
  },
  {
   "cell_type": "markdown",
   "metadata": {},
   "source": [
    "## Split Datasets"
   ]
  },
  {
   "cell_type": "code",
   "execution_count": 8,
   "metadata": {},
   "outputs": [],
   "source": [
    "# Split data into two sets: Training and Testing.\n",
    "\n",
    "# Split out target variable\n",
    "jh_model_y = just_hom\n",
    "aa_model_y= agg_asst\n",
    "\n",
    "\n",
    "# Remove target variable from feature list\n",
    "data_model_X = df.drop(['OFF_CODE'], axis=1, inplace = False)\n",
    "\n",
    "# Split the data into training and validation datasets\n",
    "# Save 30% for validation\n",
    "jh_X_train, jh_X_val, jh_y_train, jh_y_val = train_test_split(data_model_X, jh_model_y, test_size =0.3, random_state=7)\n",
    "aa_X_train, aa_X_val, aa_y_train, aa_y_val = train_test_split(data_model_X, aa_model_y, test_size =0.3, random_state=7)"
   ]
  },
  {
   "cell_type": "markdown",
   "metadata": {},
   "source": [
    "# Single Classification Models"
   ]
  },
  {
   "cell_type": "markdown",
   "metadata": {},
   "source": [
    "## 1) Justifiable Homicide Model"
   ]
  },
  {
   "cell_type": "markdown",
   "metadata": {},
   "source": [
    "### Build Decision Tree Model"
   ]
  },
  {
   "cell_type": "code",
   "execution_count": 9,
   "metadata": {},
   "outputs": [],
   "source": [
    "# Create decision tree classifer object\n",
    "from sklearn.tree import DecisionTreeClassifier\n",
    "decisiontree = DecisionTreeClassifier(random_state=0, class_weight=\"balanced\")\n",
    "#decisiontree = DecisionTreeClassifier(random_state=0)\n",
    "\n",
    "# Train model\n",
    "jh_tree = decisiontree.fit(jh_X_train, jh_y_train)"
   ]
  },
  {
   "cell_type": "markdown",
   "metadata": {},
   "source": [
    "### Model Evaluation"
   ]
  },
  {
   "cell_type": "code",
   "execution_count": 10,
   "metadata": {},
   "outputs": [],
   "source": [
    "# Predict values\n",
    "jh_y_pred = jh_tree.predict(jh_X_val)"
   ]
  },
  {
   "cell_type": "code",
   "execution_count": 11,
   "metadata": {},
   "outputs": [
    {
     "name": "stdout",
     "output_type": "stream",
     "text": [
      "              precision    recall  f1-score   support\n",
      "\n",
      "           0       1.00      1.00      1.00    595144\n",
      "           1       0.00      0.25      0.01        16\n",
      "\n",
      "    accuracy                           1.00    595160\n",
      "   macro avg       0.50      0.62      0.50    595160\n",
      "weighted avg       1.00      1.00      1.00    595160\n",
      "\n"
     ]
    }
   ],
   "source": [
    "# Create classification report\n",
    "print(classification_report(jh_y_val, jh_y_pred))"
   ]
  },
  {
   "cell_type": "markdown",
   "metadata": {},
   "source": [
    "### Confusion Matrix"
   ]
  },
  {
   "cell_type": "code",
   "execution_count": 12,
   "metadata": {},
   "outputs": [
    {
     "name": "stderr",
     "output_type": "stream",
     "text": [
      "C:\\Users\\amomu\\Anaconda3\\lib\\site-packages\\sklearn\\utils\\deprecation.py:144: FutureWarning: The sklearn.metrics.classification module is  deprecated in version 0.22 and will be removed in version 0.24. The corresponding classes / functions should instead be imported from sklearn.metrics. Anything that cannot be imported from sklearn.metrics is now part of the private API.\n",
      "  warnings.warn(message, FutureWarning)\n",
      "C:\\Users\\amomu\\Anaconda3\\lib\\site-packages\\sklearn\\base.py:197: FutureWarning: From version 0.24, get_params will raise an AttributeError if a parameter cannot be retrieved as an instance attribute. Previously it would return None.\n",
      "  FutureWarning)\n"
     ]
    },
    {
     "data": {
      "image/png": "[encoded data removed]",
      "text/plain": [
       "<Figure size 216x216 with 1 Axes>"
      ]
     },
     "metadata": {},
     "output_type": "display_data"
    },
    {
     "data": {
      "text/plain": [
       "<matplotlib.axes._subplots.AxesSubplot at 0x19d78422208>"
      ]
     },
     "execution_count": 12,
     "metadata": {},
     "output_type": "execute_result"
    }
   ],
   "source": [
    "# Use Confusion Matrix to evaluate the model \n",
    "\n",
    "import matplotlib.pyplot as plt\n",
    "from yellowbrick.classifier import ConfusionMatrix\n",
    "\n",
    "# Set up the figure size\n",
    "plt.rcParams['figure.figsize'] = (3, 3)\n",
    "\n",
    "classes = [0,1]\n",
    "cm = ConfusionMatrix(jh_tree, classes=classes, percent=False)\n",
    "\n",
    "# Fit the passed model\n",
    "cm.fit(jh_X_train, jh_y_train)\n",
    "  \n",
    "# Score runs predict() and creates the confusion_matrix\n",
    "cm.score(jh_X_val, jh_y_val)\n",
    "       \n",
    "# Change font for labels\n",
    "for label in cm.ax.texts:\n",
    "    label.set_size(15)\n",
    "\n",
    "# Set label fonts\n",
    "plt.xlabel('False Class',fontsize=15)\n",
    "plt.ylabel('Predicted Class',fontsize=15)\n",
    "    \n",
    "# Draw plot\n",
    "cm.poof()"
   ]
  },
  {
   "cell_type": "markdown",
   "metadata": {},
   "source": [
    "#### Analysis - Justifiable Homicide\n",
    "- Accuracy = (True Positives + True Negatives)/All\n",
    "- Accuracy = (4+594200)/(594200+944+12+4)\n",
    "- Accuracy = 99.8%"
   ]
  },
  {
   "cell_type": "markdown",
   "metadata": {},
   "source": [
    "### Model Visualization"
   ]
  },
  {
   "cell_type": "code",
   "execution_count": 13,
   "metadata": {},
   "outputs": [
    {
     "data": {
      "text/plain": [
       "True"
      ]
     },
     "execution_count": 13,
     "metadata": {},
     "output_type": "execute_result"
    }
   ],
   "source": [
    "# Load libraries\n",
    "import pydotplus\n",
    "from IPython.display import Image\n",
    "from sklearn import tree as sk_tree\n",
    "\n",
    "feature_names = data_model_X.columns\n",
    "target_name = 'JUST_HOMICIDE'\n",
    "\n",
    "# Create DOT data\n",
    "dot_data = sk_tree.export_graphviz(jh_tree,\n",
    "                                out_file=None,\n",
    "                                feature_names=feature_names,\n",
    "                                class_names=target_name)\n",
    "\n",
    "# Draw graph\n",
    "graph = pydotplus.graph_from_dot_data(dot_data)\n",
    "\n",
    "# Show graph\n",
    "Image(graph.create_png())\n",
    "\n",
    "#Save graph\n",
    "graph.write_png(\"jh_tree.png\")"
   ]
  },
  {
   "cell_type": "markdown",
   "metadata": {},
   "source": [
    "## 2) Aggravated Assault Model"
   ]
  },
  {
   "cell_type": "markdown",
   "metadata": {},
   "source": [
    "### Build Model"
   ]
  },
  {
   "cell_type": "code",
   "execution_count": 14,
   "metadata": {},
   "outputs": [],
   "source": [
    "# Create decision tree classifer object\n",
    "from sklearn.tree import DecisionTreeClassifier\n",
    "#decisiontree = DecisionTreeClassifier(random_state=0, class_weight=\"balanced\")\n",
    "decisiontree = DecisionTreeClassifier(random_state=0)\n",
    "\n",
    "# Train model\n",
    "aa_tree = decisiontree.fit(aa_X_train, aa_y_train)"
   ]
  },
  {
   "cell_type": "markdown",
   "metadata": {},
   "source": [
    "### Model Evaluation"
   ]
  },
  {
   "cell_type": "code",
   "execution_count": 15,
   "metadata": {},
   "outputs": [],
   "source": [
    "# Predict values\n",
    "aa_y_pred = aa_tree.predict(aa_X_val)"
   ]
  },
  {
   "cell_type": "code",
   "execution_count": 16,
   "metadata": {},
   "outputs": [
    {
     "name": "stdout",
     "output_type": "stream",
     "text": [
      "              precision    recall  f1-score   support\n",
      "\n",
      "           0       0.96      1.00      0.98    566569\n",
      "           1       0.57      0.09      0.16     28591\n",
      "\n",
      "    accuracy                           0.95    595160\n",
      "   macro avg       0.76      0.54      0.57    595160\n",
      "weighted avg       0.94      0.95      0.94    595160\n",
      "\n"
     ]
    }
   ],
   "source": [
    "# Create classification report\n",
    "print(classification_report(aa_y_val, aa_y_pred))"
   ]
  },
  {
   "cell_type": "markdown",
   "metadata": {},
   "source": [
    "### Confusion Matrix"
   ]
  },
  {
   "cell_type": "code",
   "execution_count": 17,
   "metadata": {},
   "outputs": [
    {
     "name": "stderr",
     "output_type": "stream",
     "text": [
      "C:\\Users\\amomu\\Anaconda3\\lib\\site-packages\\sklearn\\base.py:197: FutureWarning: From version 0.24, get_params will raise an AttributeError if a parameter cannot be retrieved as an instance attribute. Previously it would return None.\n",
      "  FutureWarning)\n"
     ]
    },
    {
     "data": {
      "image/png": "[encoded data removed]",
      "text/plain": [
       "<Figure size 216x216 with 1 Axes>"
      ]
     },
     "metadata": {},
     "output_type": "display_data"
    },
    {
     "data": {
      "text/plain": [
       "<matplotlib.axes._subplots.AxesSubplot at 0x19d158c84c8>"
      ]
     },
     "execution_count": 17,
     "metadata": {},
     "output_type": "execute_result"
    }
   ],
   "source": [
    "# Use Confusion Matrix to evaluate the model \n",
    "\n",
    "# Set up the figure size\n",
    "plt.rcParams['figure.figsize'] = (3, 3)\n",
    "\n",
    "classes = [0,1]\n",
    "cm = ConfusionMatrix(aa_tree, classes=classes, percent=False)\n",
    "\n",
    "# Fit the passed model\n",
    "cm.fit(aa_X_train, aa_y_train)\n",
    "  \n",
    "# Score runs predict() and creates the confusion_matrix\n",
    "cm.score(aa_X_val, aa_y_val)\n",
    "       \n",
    "# Change font for labels\n",
    "for label in cm.ax.texts:\n",
    "    label.set_size(15)\n",
    "\n",
    "# Set label fonts\n",
    "plt.xlabel('False Class',fontsize=15)\n",
    "plt.ylabel('Predicted Class',fontsize=15)\n",
    "    \n",
    "# Draw plot\n",
    "cm.poof()"
   ]
  },
  {
   "cell_type": "markdown",
   "metadata": {},
   "source": [
    "#### Analysis - Aggrevated Assault\n",
    "- Accuracy = (True Positives + True Negatives)/All\n",
    "- Accuracy = (21129+409778)/(409778+156791+7462+21129)\n",
    "- Accuracy = 72.4%"
   ]
  },
  {
   "cell_type": "markdown",
   "metadata": {},
   "source": [
    "### Model Visualization"
   ]
  },
  {
   "cell_type": "code",
   "execution_count": 18,
   "metadata": {},
   "outputs": [
    {
     "name": "stdout",
     "output_type": "stream",
     "text": [
      "dot: graph is too large for cairo-renderer bitmaps. Scaling by 0.0164915 to fit\n",
      "\n",
      "dot: graph is too large for cairo-renderer bitmaps. Scaling by 0.0164915 to fit\n",
      "\n"
     ]
    },
    {
     "data": {
      "text/plain": [
       "True"
      ]
     },
     "execution_count": 18,
     "metadata": {},
     "output_type": "execute_result"
    }
   ],
   "source": [
    "target_name = 'AGG_ASSAULT'\n",
    "\n",
    "# Create DOT data\n",
    "dot_data = sk_tree.export_graphviz(aa_tree,\n",
    "                                out_file=None,\n",
    "                                feature_names=feature_names,\n",
    "                                class_names=target_name)\n",
    "\n",
    "# Draw graph\n",
    "graph = pydotplus.graph_from_dot_data(dot_data)\n",
    "\n",
    "# Show graph\n",
    "Image(graph.create_png())\n",
    "\n",
    "#Save graph\n",
    "graph.write_png(\"aa_tree.png\")"
   ]
  }
 ],
 "metadata": {
  "kernelspec": {
   "display_name": "Python 3",
   "language": "python",
   "name": "python3"
  },
  "language_info": {
   "codemirror_mode": {
    "name": "ipython",
    "version": 3
   },
   "file_extension": ".py",
   "mimetype": "text/x-python",
   "name": "python",
   "nbconvert_exporter": "python",
   "pygments_lexer": "ipython3",
   "version": "3.7.6"
  }
 },
 "nbformat": 4,
 "nbformat_minor": 1
}
